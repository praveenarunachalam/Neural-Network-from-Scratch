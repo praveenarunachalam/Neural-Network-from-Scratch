{
 "cells": [
  {
   "cell_type": "markdown",
   "metadata": {},
   "source": [
    "# Neural Network from Scratch"
   ]
  },
  {
   "cell_type": "markdown",
   "metadata": {},
   "source": [
    "![alt text](a.jpg \"Title\")"
   ]
  },
  {
   "cell_type": "code",
   "execution_count": 26,
   "metadata": {},
   "outputs": [],
   "source": [
    "import numpy as np\n",
    "import matplotlib.pyplot as plt\n",
    "%matplotlib inline\n",
    "X = np.array(([3,5], [5,1], [5,2]), dtype=float)\n",
    "Y = np.array(([75], [82], [93]), dtype=float)\n"
   ]
  },
  {
   "cell_type": "code",
   "execution_count": 27,
   "metadata": {},
   "outputs": [
    {
     "data": {
      "text/plain": [
       "array([[ 3.,  5.],\n",
       "       [ 5.,  1.],\n",
       "       [ 5.,  2.]])"
      ]
     },
     "execution_count": 27,
     "metadata": {},
     "output_type": "execute_result"
    }
   ],
   "source": [
    "X"
   ]
  },
  {
   "cell_type": "code",
   "execution_count": 28,
   "metadata": {},
   "outputs": [
    {
     "data": {
      "text/plain": [
       "array([[ 75.],\n",
       "       [ 82.],\n",
       "       [ 93.]])"
      ]
     },
     "execution_count": 28,
     "metadata": {},
     "output_type": "execute_result"
    }
   ],
   "source": [
    "Y"
   ]
  },
  {
   "cell_type": "code",
   "execution_count": 33,
   "metadata": {
    "collapsed": true
   },
   "outputs": [],
   "source": [
    "class NeuralNetwork(object):\n",
    "    def __init__(self,X,y,num_passes=5):\n",
    "        \"\"\"\n",
    "        Initialising dimensions, weight and biases\n",
    "        \"\"\"\n",
    "        self.X=X\n",
    "        self.y=y\n",
    "        self.num_passes=num_passes\n",
    "        \n",
    "        self.inputLayerDim = 2\n",
    "        self.outputLayerDim = 1\n",
    "        self.hiddenLayerDim = 5\n",
    "        \n",
    "        self.Wxh = np.random.randn(self.inputLayerDim,self.hiddenLayerDim)\n",
    "        self.bh = np.zeros((1,self.hiddenLayerDim))\n",
    "        \n",
    "        self.Why = np.random.randn (self.hiddenLayerDim,self.outputLayerDim)\n",
    "        self.by = np.zeros((1,self.outputLayerDim))\n",
    "        \n",
    "        \n",
    "        self.alpha = 0.01\n",
    "        \n",
    "        \n",
    "    def sigmoid(self,z):\n",
    "        return 1 / (1+np.exp(-z))\n",
    "    \n",
    "    def forwardProp(self):\n",
    "        self.z1 = np.dot(self.X,self.Wxh) + self.bh\n",
    "        self.a1 = self.sigmoid(self.z1)\n",
    "        self.z2 = np.dot(self.a1,self.Why) + self.by\n",
    "        self.yHat = self.sigmoid(self.z2)\n",
    "        \n",
    "        \n",
    "    def sigmoidPrime(self,z):\n",
    "         return np.exp(-z)/((1+np.exp(-z))**2)\n",
    "        \n",
    "    def backProp(self):\n",
    "        \"\"\"\n",
    "        Multiply error by the input and derivative of sigmoid\n",
    "        \n",
    "        \n",
    "        J = 1/2 (y-yh)2\n",
    "        \n",
    "        dJ/dW2 = dJ/dyh * dyh/dz2 * dz2/dw2\n",
    "               = dJ/dyh * dyh/dw2\n",
    "        \n",
    "        dJ/dyh = -(y-yh)\n",
    "        dyh/dz2 = sigprime\n",
    "        dz2/dw2 = a1\n",
    "        \n",
    "        \n",
    "        dJ/dw1 = dJ/dyh * dyh/dz2 *dz2/da1 * da1/dz1 * dz1/dw1\n",
    "        dJ/dyh  = -(y-yh)\n",
    "        dyh/dz2 = sigprime\n",
    "        dz2/da1 = why\n",
    "        da1/dz1 = sigprime\n",
    "        dz1/dw1 = x\n",
    "        \n",
    "        \"\"\"\n",
    "        self.delta3 = np.multiply(-(self.y-self.yHat),self.sigmoidPrime(self.z2))\n",
    "       \n",
    "        self.dJdW2 = np.dot(self.a1.T, self.delta3)\n",
    "        \n",
    "        self.delta2 = np.dot(self.delta3,self.Why.T)*self.sigmoidPrime(self.z1)\n",
    "        self.dJdW1 = np.dot(self.X.T, self.delta2) \n",
    "        \n",
    "       \n",
    "        self.Wxh += -self.alpha * self.dJdW1\n",
    "        self.Why += -self.alpha * self.dJdW2\n",
    "    \n",
    "                     \n",
    "    def cost_function(self):\n",
    "        \n",
    "        self.J = 0.5*sum((self.y-self.yHat)**2)\n",
    "        return self.J\n",
    "        \n",
    "        \n",
    "        \n",
    "    def optimise(self):\n",
    "        self.i=[]\n",
    "        self.c=[]\n",
    "        for i in range(self.num_passes):\n",
    "            self.forwardProp()\n",
    "            self.backProp()\n",
    "            self.cost = self.cost_function()\n",
    "            self.i.append(i)\n",
    "            self.c.append(self.cost)\n",
    "            \n",
    "        \n",
    "        \n",
    "    def PlotCostFunction(self):\n",
    "        plt.plot(self.i,self.c)\n",
    "   \n",
    "        \n",
    "        "
   ]
  },
  {
   "cell_type": "code",
   "execution_count": 34,
   "metadata": {
    "scrolled": true
   },
   "outputs": [
    {
     "data": {
      "image/png": "[encoded data removed]",
      "text/plain": [
       "<matplotlib.figure.Figure at 0x2b5218044a8>"
      ]
     },
     "metadata": {},
     "output_type": "display_data"
    }
   ],
   "source": [
    "NN=NeuralNetwork(X,Y,100)\n",
    "NN.optimise()\n",
    "NN.PlotCostFunction()"
   ]
  },
  {
   "cell_type": "code",
   "execution_count": null,
   "metadata": {},
   "outputs": [],
   "source": []
  },
  {
   "cell_type": "markdown",
   "metadata": {},
   "source": []
  },
  {
   "cell_type": "code",
   "execution_count": null,
   "metadata": {
    "collapsed": true
   },
   "outputs": [],
   "source": []
  },
  {
   "cell_type": "code",
   "execution_count": null,
   "metadata": {
    "collapsed": true
   },
   "outputs": [],
   "source": []
  },
  {
   "cell_type": "code",
   "execution_count": null,
   "metadata": {
    "collapsed": true
   },
   "outputs": [],
   "source": []
  },
  {
   "cell_type": "code",
   "execution_count": null,
   "metadata": {},
   "outputs": [],
   "source": []
  },
  {
   "cell_type": "code",
   "execution_count": null,
   "metadata": {},
   "outputs": [],
   "source": []
  },
  {
   "cell_type": "code",
   "execution_count": null,
   "metadata": {
    "collapsed": true
   },
   "outputs": [],
   "source": []
  },
  {
   "cell_type": "code",
   "execution_count": null,
   "metadata": {
    "collapsed": true
   },
   "outputs": [],
   "source": []
  }
 ],
 "metadata": {
  "kernelspec": {
   "display_name": "Python 3",
   "language": "python",
   "name": "python3"
  },
  "language_info": {
   "codemirror_mode": {
    "name": "ipython",
    "version": 3
   },
   "file_extension": ".py",
   "mimetype": "text/x-python",
   "name": "python",
   "nbconvert_exporter": "python",
   "pygments_lexer": "ipython3",
   "version": "3.6.1"
  }
 },
 "nbformat": 4,
 "nbformat_minor": 2
}
